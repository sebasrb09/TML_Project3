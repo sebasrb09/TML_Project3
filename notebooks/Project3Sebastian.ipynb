{
 "cells": [
  {
   "cell_type": "code",
   "execution_count": 1,
   "id": "ab5dad49",
   "metadata": {},
   "outputs": [],
   "source": [
    "import pandas as pd\n",
    "import numpy as np\n",
    "import seaborn as sns\n",
    "from sklearn.metrics import accuracy_score\n",
    "from sklearn.linear_model import LogisticRegression\n",
    "from sklearn.preprocessing import StandardScaler\n",
    "from sklearn.pipeline import Pipeline\n",
    "from sklearn.metrics import confusion_matrix\n",
    "\n",
    "from sklearn.neighbors import NearestNeighbors\n",
    "from sklearn.tree import DecisionTreeClassifier\n",
    "from sklearn.metrics import precision_recall_fscore_support\n",
    "from sklearn.metrics import accuracy_score"
   ]
  },
  {
   "cell_type": "markdown",
   "id": "ac2ccb5b",
   "metadata": {},
   "source": [
    "# Adult Dataset"
   ]
  },
  {
   "cell_type": "code",
   "execution_count": 2,
   "id": "a58fe1d9",
   "metadata": {},
   "outputs": [],
   "source": [
    "path = 'https://archive.ics.uci.edu/ml/machine-learning-databases/adult/adult.data'\n",
    "columns= ['age','workclass','fnlwgt','education','education-num','marital-status','occupation','relationship','race','sex','capital-gain','capital-loss','hours-per-week','native-country','over50']\n",
    "train_set = pd.read_csv(path, index_col=False,names=columns)"
   ]
  },
  {
   "cell_type": "code",
   "execution_count": 3,
   "id": "534b1b24",
   "metadata": {},
   "outputs": [],
   "source": [
    "path_test = 'https://archive.ics.uci.edu/ml/machine-learning-databases/adult/adult.test'\n",
    "test_set = pd.read_csv(path_test,skiprows=1, index_col=False,names=columns)"
   ]
  },
  {
   "cell_type": "code",
   "execution_count": 4,
   "id": "9d1615c6",
   "metadata": {},
   "outputs": [
    {
     "data": {
      "text/plain": [
       "(32561, 15)"
      ]
     },
     "execution_count": 4,
     "metadata": {},
     "output_type": "execute_result"
    }
   ],
   "source": [
    "train_set.shape"
   ]
  },
  {
   "cell_type": "code",
   "execution_count": 5,
   "id": "f7e9351f",
   "metadata": {},
   "outputs": [
    {
     "data": {
      "text/html": [
       "<div>\n",
       "<style scoped>\n",
       "    .dataframe tbody tr th:only-of-type {\n",
       "        vertical-align: middle;\n",
       "    }\n",
       "\n",
       "    .dataframe tbody tr th {\n",
       "        vertical-align: top;\n",
       "    }\n",
       "\n",
       "    .dataframe thead th {\n",
       "        text-align: right;\n",
       "    }\n",
       "</style>\n",
       "<table border=\"1\" class=\"dataframe\">\n",
       "  <thead>\n",
       "    <tr style=\"text-align: right;\">\n",
       "      <th></th>\n",
       "      <th>age</th>\n",
       "      <th>workclass</th>\n",
       "      <th>fnlwgt</th>\n",
       "      <th>education</th>\n",
       "      <th>education-num</th>\n",
       "      <th>marital-status</th>\n",
       "      <th>occupation</th>\n",
       "      <th>relationship</th>\n",
       "      <th>race</th>\n",
       "      <th>sex</th>\n",
       "      <th>capital-gain</th>\n",
       "      <th>capital-loss</th>\n",
       "      <th>hours-per-week</th>\n",
       "      <th>native-country</th>\n",
       "      <th>over50</th>\n",
       "    </tr>\n",
       "  </thead>\n",
       "  <tbody>\n",
       "    <tr>\n",
       "      <th>0</th>\n",
       "      <td>25</td>\n",
       "      <td>Private</td>\n",
       "      <td>226802</td>\n",
       "      <td>11th</td>\n",
       "      <td>7</td>\n",
       "      <td>Never-married</td>\n",
       "      <td>Machine-op-inspct</td>\n",
       "      <td>Own-child</td>\n",
       "      <td>Black</td>\n",
       "      <td>Male</td>\n",
       "      <td>0</td>\n",
       "      <td>0</td>\n",
       "      <td>40</td>\n",
       "      <td>United-States</td>\n",
       "      <td>&lt;=50K.</td>\n",
       "    </tr>\n",
       "    <tr>\n",
       "      <th>1</th>\n",
       "      <td>38</td>\n",
       "      <td>Private</td>\n",
       "      <td>89814</td>\n",
       "      <td>HS-grad</td>\n",
       "      <td>9</td>\n",
       "      <td>Married-civ-spouse</td>\n",
       "      <td>Farming-fishing</td>\n",
       "      <td>Husband</td>\n",
       "      <td>White</td>\n",
       "      <td>Male</td>\n",
       "      <td>0</td>\n",
       "      <td>0</td>\n",
       "      <td>50</td>\n",
       "      <td>United-States</td>\n",
       "      <td>&lt;=50K.</td>\n",
       "    </tr>\n",
       "    <tr>\n",
       "      <th>2</th>\n",
       "      <td>28</td>\n",
       "      <td>Local-gov</td>\n",
       "      <td>336951</td>\n",
       "      <td>Assoc-acdm</td>\n",
       "      <td>12</td>\n",
       "      <td>Married-civ-spouse</td>\n",
       "      <td>Protective-serv</td>\n",
       "      <td>Husband</td>\n",
       "      <td>White</td>\n",
       "      <td>Male</td>\n",
       "      <td>0</td>\n",
       "      <td>0</td>\n",
       "      <td>40</td>\n",
       "      <td>United-States</td>\n",
       "      <td>&gt;50K.</td>\n",
       "    </tr>\n",
       "    <tr>\n",
       "      <th>3</th>\n",
       "      <td>44</td>\n",
       "      <td>Private</td>\n",
       "      <td>160323</td>\n",
       "      <td>Some-college</td>\n",
       "      <td>10</td>\n",
       "      <td>Married-civ-spouse</td>\n",
       "      <td>Machine-op-inspct</td>\n",
       "      <td>Husband</td>\n",
       "      <td>Black</td>\n",
       "      <td>Male</td>\n",
       "      <td>7688</td>\n",
       "      <td>0</td>\n",
       "      <td>40</td>\n",
       "      <td>United-States</td>\n",
       "      <td>&gt;50K.</td>\n",
       "    </tr>\n",
       "    <tr>\n",
       "      <th>4</th>\n",
       "      <td>18</td>\n",
       "      <td>?</td>\n",
       "      <td>103497</td>\n",
       "      <td>Some-college</td>\n",
       "      <td>10</td>\n",
       "      <td>Never-married</td>\n",
       "      <td>?</td>\n",
       "      <td>Own-child</td>\n",
       "      <td>White</td>\n",
       "      <td>Female</td>\n",
       "      <td>0</td>\n",
       "      <td>0</td>\n",
       "      <td>30</td>\n",
       "      <td>United-States</td>\n",
       "      <td>&lt;=50K.</td>\n",
       "    </tr>\n",
       "    <tr>\n",
       "      <th>...</th>\n",
       "      <td>...</td>\n",
       "      <td>...</td>\n",
       "      <td>...</td>\n",
       "      <td>...</td>\n",
       "      <td>...</td>\n",
       "      <td>...</td>\n",
       "      <td>...</td>\n",
       "      <td>...</td>\n",
       "      <td>...</td>\n",
       "      <td>...</td>\n",
       "      <td>...</td>\n",
       "      <td>...</td>\n",
       "      <td>...</td>\n",
       "      <td>...</td>\n",
       "      <td>...</td>\n",
       "    </tr>\n",
       "    <tr>\n",
       "      <th>16276</th>\n",
       "      <td>39</td>\n",
       "      <td>Private</td>\n",
       "      <td>215419</td>\n",
       "      <td>Bachelors</td>\n",
       "      <td>13</td>\n",
       "      <td>Divorced</td>\n",
       "      <td>Prof-specialty</td>\n",
       "      <td>Not-in-family</td>\n",
       "      <td>White</td>\n",
       "      <td>Female</td>\n",
       "      <td>0</td>\n",
       "      <td>0</td>\n",
       "      <td>36</td>\n",
       "      <td>United-States</td>\n",
       "      <td>&lt;=50K.</td>\n",
       "    </tr>\n",
       "    <tr>\n",
       "      <th>16277</th>\n",
       "      <td>64</td>\n",
       "      <td>?</td>\n",
       "      <td>321403</td>\n",
       "      <td>HS-grad</td>\n",
       "      <td>9</td>\n",
       "      <td>Widowed</td>\n",
       "      <td>?</td>\n",
       "      <td>Other-relative</td>\n",
       "      <td>Black</td>\n",
       "      <td>Male</td>\n",
       "      <td>0</td>\n",
       "      <td>0</td>\n",
       "      <td>40</td>\n",
       "      <td>United-States</td>\n",
       "      <td>&lt;=50K.</td>\n",
       "    </tr>\n",
       "    <tr>\n",
       "      <th>16278</th>\n",
       "      <td>38</td>\n",
       "      <td>Private</td>\n",
       "      <td>374983</td>\n",
       "      <td>Bachelors</td>\n",
       "      <td>13</td>\n",
       "      <td>Married-civ-spouse</td>\n",
       "      <td>Prof-specialty</td>\n",
       "      <td>Husband</td>\n",
       "      <td>White</td>\n",
       "      <td>Male</td>\n",
       "      <td>0</td>\n",
       "      <td>0</td>\n",
       "      <td>50</td>\n",
       "      <td>United-States</td>\n",
       "      <td>&lt;=50K.</td>\n",
       "    </tr>\n",
       "    <tr>\n",
       "      <th>16279</th>\n",
       "      <td>44</td>\n",
       "      <td>Private</td>\n",
       "      <td>83891</td>\n",
       "      <td>Bachelors</td>\n",
       "      <td>13</td>\n",
       "      <td>Divorced</td>\n",
       "      <td>Adm-clerical</td>\n",
       "      <td>Own-child</td>\n",
       "      <td>Asian-Pac-Islander</td>\n",
       "      <td>Male</td>\n",
       "      <td>5455</td>\n",
       "      <td>0</td>\n",
       "      <td>40</td>\n",
       "      <td>United-States</td>\n",
       "      <td>&lt;=50K.</td>\n",
       "    </tr>\n",
       "    <tr>\n",
       "      <th>16280</th>\n",
       "      <td>35</td>\n",
       "      <td>Self-emp-inc</td>\n",
       "      <td>182148</td>\n",
       "      <td>Bachelors</td>\n",
       "      <td>13</td>\n",
       "      <td>Married-civ-spouse</td>\n",
       "      <td>Exec-managerial</td>\n",
       "      <td>Husband</td>\n",
       "      <td>White</td>\n",
       "      <td>Male</td>\n",
       "      <td>0</td>\n",
       "      <td>0</td>\n",
       "      <td>60</td>\n",
       "      <td>United-States</td>\n",
       "      <td>&gt;50K.</td>\n",
       "    </tr>\n",
       "  </tbody>\n",
       "</table>\n",
       "<p>16281 rows × 15 columns</p>\n",
       "</div>"
      ],
      "text/plain": [
       "       age      workclass  fnlwgt      education  education-num  \\\n",
       "0       25        Private  226802           11th              7   \n",
       "1       38        Private   89814        HS-grad              9   \n",
       "2       28      Local-gov  336951     Assoc-acdm             12   \n",
       "3       44        Private  160323   Some-college             10   \n",
       "4       18              ?  103497   Some-college             10   \n",
       "...    ...            ...     ...            ...            ...   \n",
       "16276   39        Private  215419      Bachelors             13   \n",
       "16277   64              ?  321403        HS-grad              9   \n",
       "16278   38        Private  374983      Bachelors             13   \n",
       "16279   44        Private   83891      Bachelors             13   \n",
       "16280   35   Self-emp-inc  182148      Bachelors             13   \n",
       "\n",
       "            marital-status          occupation     relationship  \\\n",
       "0            Never-married   Machine-op-inspct        Own-child   \n",
       "1       Married-civ-spouse     Farming-fishing          Husband   \n",
       "2       Married-civ-spouse     Protective-serv          Husband   \n",
       "3       Married-civ-spouse   Machine-op-inspct          Husband   \n",
       "4            Never-married                   ?        Own-child   \n",
       "...                    ...                 ...              ...   \n",
       "16276             Divorced      Prof-specialty    Not-in-family   \n",
       "16277              Widowed                   ?   Other-relative   \n",
       "16278   Married-civ-spouse      Prof-specialty          Husband   \n",
       "16279             Divorced        Adm-clerical        Own-child   \n",
       "16280   Married-civ-spouse     Exec-managerial          Husband   \n",
       "\n",
       "                      race      sex  capital-gain  capital-loss  \\\n",
       "0                    Black     Male             0             0   \n",
       "1                    White     Male             0             0   \n",
       "2                    White     Male             0             0   \n",
       "3                    Black     Male          7688             0   \n",
       "4                    White   Female             0             0   \n",
       "...                    ...      ...           ...           ...   \n",
       "16276                White   Female             0             0   \n",
       "16277                Black     Male             0             0   \n",
       "16278                White     Male             0             0   \n",
       "16279   Asian-Pac-Islander     Male          5455             0   \n",
       "16280                White     Male             0             0   \n",
       "\n",
       "       hours-per-week  native-country   over50  \n",
       "0                  40   United-States   <=50K.  \n",
       "1                  50   United-States   <=50K.  \n",
       "2                  40   United-States    >50K.  \n",
       "3                  40   United-States    >50K.  \n",
       "4                  30   United-States   <=50K.  \n",
       "...               ...             ...      ...  \n",
       "16276              36   United-States   <=50K.  \n",
       "16277              40   United-States   <=50K.  \n",
       "16278              50   United-States   <=50K.  \n",
       "16279              40   United-States   <=50K.  \n",
       "16280              60   United-States    >50K.  \n",
       "\n",
       "[16281 rows x 15 columns]"
      ]
     },
     "execution_count": 5,
     "metadata": {},
     "output_type": "execute_result"
    }
   ],
   "source": [
    "test_set"
   ]
  },
  {
   "cell_type": "code",
   "execution_count": 6,
   "id": "a94603d0",
   "metadata": {},
   "outputs": [],
   "source": [
    "data = pd.concat([train_set,test_set])"
   ]
  },
  {
   "cell_type": "code",
   "execution_count": 7,
   "id": "cbb13c1d",
   "metadata": {},
   "outputs": [
    {
     "data": {
      "text/html": [
       "<div>\n",
       "<style scoped>\n",
       "    .dataframe tbody tr th:only-of-type {\n",
       "        vertical-align: middle;\n",
       "    }\n",
       "\n",
       "    .dataframe tbody tr th {\n",
       "        vertical-align: top;\n",
       "    }\n",
       "\n",
       "    .dataframe thead th {\n",
       "        text-align: right;\n",
       "    }\n",
       "</style>\n",
       "<table border=\"1\" class=\"dataframe\">\n",
       "  <thead>\n",
       "    <tr style=\"text-align: right;\">\n",
       "      <th></th>\n",
       "      <th>age</th>\n",
       "      <th>workclass</th>\n",
       "      <th>fnlwgt</th>\n",
       "      <th>education</th>\n",
       "      <th>education-num</th>\n",
       "      <th>marital-status</th>\n",
       "      <th>occupation</th>\n",
       "      <th>relationship</th>\n",
       "      <th>race</th>\n",
       "      <th>sex</th>\n",
       "      <th>capital-gain</th>\n",
       "      <th>capital-loss</th>\n",
       "      <th>hours-per-week</th>\n",
       "      <th>native-country</th>\n",
       "      <th>over50</th>\n",
       "    </tr>\n",
       "  </thead>\n",
       "  <tbody>\n",
       "    <tr>\n",
       "      <th>0</th>\n",
       "      <td>25</td>\n",
       "      <td>Private</td>\n",
       "      <td>226802</td>\n",
       "      <td>11th</td>\n",
       "      <td>7</td>\n",
       "      <td>Never-married</td>\n",
       "      <td>Machine-op-inspct</td>\n",
       "      <td>Own-child</td>\n",
       "      <td>Black</td>\n",
       "      <td>Male</td>\n",
       "      <td>0</td>\n",
       "      <td>0</td>\n",
       "      <td>40</td>\n",
       "      <td>United-States</td>\n",
       "      <td>&lt;=50K.</td>\n",
       "    </tr>\n",
       "    <tr>\n",
       "      <th>1</th>\n",
       "      <td>38</td>\n",
       "      <td>Private</td>\n",
       "      <td>89814</td>\n",
       "      <td>HS-grad</td>\n",
       "      <td>9</td>\n",
       "      <td>Married-civ-spouse</td>\n",
       "      <td>Farming-fishing</td>\n",
       "      <td>Husband</td>\n",
       "      <td>White</td>\n",
       "      <td>Male</td>\n",
       "      <td>0</td>\n",
       "      <td>0</td>\n",
       "      <td>50</td>\n",
       "      <td>United-States</td>\n",
       "      <td>&lt;=50K.</td>\n",
       "    </tr>\n",
       "    <tr>\n",
       "      <th>2</th>\n",
       "      <td>28</td>\n",
       "      <td>Local-gov</td>\n",
       "      <td>336951</td>\n",
       "      <td>Assoc-acdm</td>\n",
       "      <td>12</td>\n",
       "      <td>Married-civ-spouse</td>\n",
       "      <td>Protective-serv</td>\n",
       "      <td>Husband</td>\n",
       "      <td>White</td>\n",
       "      <td>Male</td>\n",
       "      <td>0</td>\n",
       "      <td>0</td>\n",
       "      <td>40</td>\n",
       "      <td>United-States</td>\n",
       "      <td>&gt;50K.</td>\n",
       "    </tr>\n",
       "    <tr>\n",
       "      <th>3</th>\n",
       "      <td>44</td>\n",
       "      <td>Private</td>\n",
       "      <td>160323</td>\n",
       "      <td>Some-college</td>\n",
       "      <td>10</td>\n",
       "      <td>Married-civ-spouse</td>\n",
       "      <td>Machine-op-inspct</td>\n",
       "      <td>Husband</td>\n",
       "      <td>Black</td>\n",
       "      <td>Male</td>\n",
       "      <td>7688</td>\n",
       "      <td>0</td>\n",
       "      <td>40</td>\n",
       "      <td>United-States</td>\n",
       "      <td>&gt;50K.</td>\n",
       "    </tr>\n",
       "    <tr>\n",
       "      <th>4</th>\n",
       "      <td>18</td>\n",
       "      <td>?</td>\n",
       "      <td>103497</td>\n",
       "      <td>Some-college</td>\n",
       "      <td>10</td>\n",
       "      <td>Never-married</td>\n",
       "      <td>?</td>\n",
       "      <td>Own-child</td>\n",
       "      <td>White</td>\n",
       "      <td>Female</td>\n",
       "      <td>0</td>\n",
       "      <td>0</td>\n",
       "      <td>30</td>\n",
       "      <td>United-States</td>\n",
       "      <td>&lt;=50K.</td>\n",
       "    </tr>\n",
       "    <tr>\n",
       "      <th>...</th>\n",
       "      <td>...</td>\n",
       "      <td>...</td>\n",
       "      <td>...</td>\n",
       "      <td>...</td>\n",
       "      <td>...</td>\n",
       "      <td>...</td>\n",
       "      <td>...</td>\n",
       "      <td>...</td>\n",
       "      <td>...</td>\n",
       "      <td>...</td>\n",
       "      <td>...</td>\n",
       "      <td>...</td>\n",
       "      <td>...</td>\n",
       "      <td>...</td>\n",
       "      <td>...</td>\n",
       "    </tr>\n",
       "    <tr>\n",
       "      <th>16276</th>\n",
       "      <td>39</td>\n",
       "      <td>Private</td>\n",
       "      <td>215419</td>\n",
       "      <td>Bachelors</td>\n",
       "      <td>13</td>\n",
       "      <td>Divorced</td>\n",
       "      <td>Prof-specialty</td>\n",
       "      <td>Not-in-family</td>\n",
       "      <td>White</td>\n",
       "      <td>Female</td>\n",
       "      <td>0</td>\n",
       "      <td>0</td>\n",
       "      <td>36</td>\n",
       "      <td>United-States</td>\n",
       "      <td>&lt;=50K.</td>\n",
       "    </tr>\n",
       "    <tr>\n",
       "      <th>16277</th>\n",
       "      <td>64</td>\n",
       "      <td>?</td>\n",
       "      <td>321403</td>\n",
       "      <td>HS-grad</td>\n",
       "      <td>9</td>\n",
       "      <td>Widowed</td>\n",
       "      <td>?</td>\n",
       "      <td>Other-relative</td>\n",
       "      <td>Black</td>\n",
       "      <td>Male</td>\n",
       "      <td>0</td>\n",
       "      <td>0</td>\n",
       "      <td>40</td>\n",
       "      <td>United-States</td>\n",
       "      <td>&lt;=50K.</td>\n",
       "    </tr>\n",
       "    <tr>\n",
       "      <th>16278</th>\n",
       "      <td>38</td>\n",
       "      <td>Private</td>\n",
       "      <td>374983</td>\n",
       "      <td>Bachelors</td>\n",
       "      <td>13</td>\n",
       "      <td>Married-civ-spouse</td>\n",
       "      <td>Prof-specialty</td>\n",
       "      <td>Husband</td>\n",
       "      <td>White</td>\n",
       "      <td>Male</td>\n",
       "      <td>0</td>\n",
       "      <td>0</td>\n",
       "      <td>50</td>\n",
       "      <td>United-States</td>\n",
       "      <td>&lt;=50K.</td>\n",
       "    </tr>\n",
       "    <tr>\n",
       "      <th>16279</th>\n",
       "      <td>44</td>\n",
       "      <td>Private</td>\n",
       "      <td>83891</td>\n",
       "      <td>Bachelors</td>\n",
       "      <td>13</td>\n",
       "      <td>Divorced</td>\n",
       "      <td>Adm-clerical</td>\n",
       "      <td>Own-child</td>\n",
       "      <td>Asian-Pac-Islander</td>\n",
       "      <td>Male</td>\n",
       "      <td>5455</td>\n",
       "      <td>0</td>\n",
       "      <td>40</td>\n",
       "      <td>United-States</td>\n",
       "      <td>&lt;=50K.</td>\n",
       "    </tr>\n",
       "    <tr>\n",
       "      <th>16280</th>\n",
       "      <td>35</td>\n",
       "      <td>Self-emp-inc</td>\n",
       "      <td>182148</td>\n",
       "      <td>Bachelors</td>\n",
       "      <td>13</td>\n",
       "      <td>Married-civ-spouse</td>\n",
       "      <td>Exec-managerial</td>\n",
       "      <td>Husband</td>\n",
       "      <td>White</td>\n",
       "      <td>Male</td>\n",
       "      <td>0</td>\n",
       "      <td>0</td>\n",
       "      <td>60</td>\n",
       "      <td>United-States</td>\n",
       "      <td>&gt;50K.</td>\n",
       "    </tr>\n",
       "  </tbody>\n",
       "</table>\n",
       "<p>16281 rows × 15 columns</p>\n",
       "</div>"
      ],
      "text/plain": [
       "       age      workclass  fnlwgt      education  education-num  \\\n",
       "0       25        Private  226802           11th              7   \n",
       "1       38        Private   89814        HS-grad              9   \n",
       "2       28      Local-gov  336951     Assoc-acdm             12   \n",
       "3       44        Private  160323   Some-college             10   \n",
       "4       18              ?  103497   Some-college             10   \n",
       "...    ...            ...     ...            ...            ...   \n",
       "16276   39        Private  215419      Bachelors             13   \n",
       "16277   64              ?  321403        HS-grad              9   \n",
       "16278   38        Private  374983      Bachelors             13   \n",
       "16279   44        Private   83891      Bachelors             13   \n",
       "16280   35   Self-emp-inc  182148      Bachelors             13   \n",
       "\n",
       "            marital-status          occupation     relationship  \\\n",
       "0            Never-married   Machine-op-inspct        Own-child   \n",
       "1       Married-civ-spouse     Farming-fishing          Husband   \n",
       "2       Married-civ-spouse     Protective-serv          Husband   \n",
       "3       Married-civ-spouse   Machine-op-inspct          Husband   \n",
       "4            Never-married                   ?        Own-child   \n",
       "...                    ...                 ...              ...   \n",
       "16276             Divorced      Prof-specialty    Not-in-family   \n",
       "16277              Widowed                   ?   Other-relative   \n",
       "16278   Married-civ-spouse      Prof-specialty          Husband   \n",
       "16279             Divorced        Adm-clerical        Own-child   \n",
       "16280   Married-civ-spouse     Exec-managerial          Husband   \n",
       "\n",
       "                      race      sex  capital-gain  capital-loss  \\\n",
       "0                    Black     Male             0             0   \n",
       "1                    White     Male             0             0   \n",
       "2                    White     Male             0             0   \n",
       "3                    Black     Male          7688             0   \n",
       "4                    White   Female             0             0   \n",
       "...                    ...      ...           ...           ...   \n",
       "16276                White   Female             0             0   \n",
       "16277                Black     Male             0             0   \n",
       "16278                White     Male             0             0   \n",
       "16279   Asian-Pac-Islander     Male          5455             0   \n",
       "16280                White     Male             0             0   \n",
       "\n",
       "       hours-per-week  native-country   over50  \n",
       "0                  40   United-States   <=50K.  \n",
       "1                  50   United-States   <=50K.  \n",
       "2                  40   United-States    >50K.  \n",
       "3                  40   United-States    >50K.  \n",
       "4                  30   United-States   <=50K.  \n",
       "...               ...             ...      ...  \n",
       "16276              36   United-States   <=50K.  \n",
       "16277              40   United-States   <=50K.  \n",
       "16278              50   United-States   <=50K.  \n",
       "16279              40   United-States   <=50K.  \n",
       "16280              60   United-States    >50K.  \n",
       "\n",
       "[16281 rows x 15 columns]"
      ]
     },
     "execution_count": 7,
     "metadata": {},
     "output_type": "execute_result"
    }
   ],
   "source": [
    "data.iloc[train_set.shape[0]:,:]"
   ]
  },
  {
   "cell_type": "code",
   "execution_count": 8,
   "id": "6cb1fc77",
   "metadata": {},
   "outputs": [
    {
     "data": {
      "text/plain": [
       "(16281, 15)"
      ]
     },
     "execution_count": 8,
     "metadata": {},
     "output_type": "execute_result"
    }
   ],
   "source": [
    "test_set.shape"
   ]
  },
  {
   "cell_type": "code",
   "execution_count": 9,
   "id": "86e46147",
   "metadata": {},
   "outputs": [],
   "source": [
    "data['sex'] = data['sex'].str.strip()"
   ]
  },
  {
   "cell_type": "code",
   "execution_count": 10,
   "id": "b745f7d5",
   "metadata": {},
   "outputs": [],
   "source": [
    "data['race'] = data['race'].str.strip()"
   ]
  },
  {
   "cell_type": "code",
   "execution_count": 11,
   "id": "7a6f545f",
   "metadata": {},
   "outputs": [],
   "source": [
    "data['native-country'] = data['native-country'].str.strip()"
   ]
  },
  {
   "cell_type": "code",
   "execution_count": 12,
   "id": "50519e1d",
   "metadata": {},
   "outputs": [
    {
     "name": "stderr",
     "output_type": "stream",
     "text": [
      "C:\\Users\\Laptop\\AppData\\Local\\Temp\\ipykernel_14504\\3815454752.py:1: FutureWarning: The default value of regex will change from True to False in a future version. In addition, single character regular expressions will *not* be treated as literal strings when regex=True.\n",
      "  data['over50'] = data['over50'].str.strip().str.replace('.','')\n"
     ]
    }
   ],
   "source": [
    "data['over50'] = data['over50'].str.strip().str.replace('.','')"
   ]
  },
  {
   "cell_type": "code",
   "execution_count": 13,
   "id": "afc4f7eb",
   "metadata": {},
   "outputs": [],
   "source": [
    "data['target'] = data['over50'].apply(lambda x: 1 if x == '>50K' else 0)"
   ]
  },
  {
   "cell_type": "code",
   "execution_count": 14,
   "id": "db9e39f1",
   "metadata": {},
   "outputs": [
    {
     "data": {
      "text/plain": [
       "0        <=50K\n",
       "1        <=50K\n",
       "2        <=50K\n",
       "3        <=50K\n",
       "4        <=50K\n",
       "         ...  \n",
       "16276    <=50K\n",
       "16277    <=50K\n",
       "16278    <=50K\n",
       "16279    <=50K\n",
       "16280     >50K\n",
       "Name: over50, Length: 48842, dtype: object"
      ]
     },
     "execution_count": 14,
     "metadata": {},
     "output_type": "execute_result"
    }
   ],
   "source": [
    "data['over50']"
   ]
  },
  {
   "cell_type": "code",
   "execution_count": 15,
   "id": "eba9bfce",
   "metadata": {},
   "outputs": [
    {
     "data": {
      "text/plain": [
       "0        0\n",
       "1        0\n",
       "2        0\n",
       "3        0\n",
       "4        0\n",
       "        ..\n",
       "16276    0\n",
       "16277    0\n",
       "16278    0\n",
       "16279    0\n",
       "16280    1\n",
       "Name: target, Length: 48842, dtype: int64"
      ]
     },
     "execution_count": 15,
     "metadata": {},
     "output_type": "execute_result"
    }
   ],
   "source": [
    "data['target']"
   ]
  },
  {
   "cell_type": "code",
   "execution_count": 16,
   "id": "d227e5db",
   "metadata": {},
   "outputs": [],
   "source": [
    "data.drop(columns=['over50'],axis=1,inplace=True)"
   ]
  },
  {
   "cell_type": "code",
   "execution_count": 17,
   "id": "dc8bea1e",
   "metadata": {},
   "outputs": [],
   "source": [
    "data2 = pd.get_dummies(data,drop_first=True)"
   ]
  },
  {
   "cell_type": "code",
   "execution_count": 18,
   "id": "5b599182",
   "metadata": {},
   "outputs": [],
   "source": [
    "data2.columns = [ str(i).strip().replace(' ','') for i in data2.columns]"
   ]
  },
  {
   "cell_type": "code",
   "execution_count": 19,
   "id": "14063ee4",
   "metadata": {},
   "outputs": [],
   "source": [
    "#data2['over50_>50K'].sum()/data2.shape[0]"
   ]
  },
  {
   "cell_type": "code",
   "execution_count": 20,
   "id": "29c58e52",
   "metadata": {},
   "outputs": [],
   "source": [
    "train = data2.iloc[:train_set.shape[0],:]\n",
    "test = data2.iloc[train_set.shape[0]:,:]"
   ]
  },
  {
   "cell_type": "code",
   "execution_count": 21,
   "id": "98ae8c84",
   "metadata": {},
   "outputs": [
    {
     "data": {
      "text/plain": [
       "(32561, 101)"
      ]
     },
     "execution_count": 21,
     "metadata": {},
     "output_type": "execute_result"
    }
   ],
   "source": [
    "train.shape"
   ]
  },
  {
   "cell_type": "code",
   "execution_count": 22,
   "id": "594b0edd",
   "metadata": {},
   "outputs": [
    {
     "data": {
      "text/plain": [
       "(16281, 101)"
      ]
     },
     "execution_count": 22,
     "metadata": {},
     "output_type": "execute_result"
    }
   ],
   "source": [
    "test.shape"
   ]
  },
  {
   "cell_type": "code",
   "execution_count": 23,
   "id": "91721ae7",
   "metadata": {},
   "outputs": [],
   "source": [
    "y_train = train['target']\n",
    "X_train = train.drop(columns=['target'],axis=1)\n",
    "y_test = test['target']\n",
    "X_test = test.drop(columns=['target'],axis=1)"
   ]
  },
  {
   "cell_type": "code",
   "execution_count": 24,
   "id": "e677f35a",
   "metadata": {},
   "outputs": [],
   "source": [
    "y_train = y_train.to_numpy().ravel()"
   ]
  },
  {
   "cell_type": "code",
   "execution_count": 25,
   "id": "3ca2fda7",
   "metadata": {},
   "outputs": [
    {
     "data": {
      "text/plain": [
       "(32561, 100)"
      ]
     },
     "execution_count": 25,
     "metadata": {},
     "output_type": "execute_result"
    }
   ],
   "source": [
    "X_train.shape"
   ]
  },
  {
   "cell_type": "code",
   "execution_count": 26,
   "id": "384ee9d5",
   "metadata": {},
   "outputs": [
    {
     "data": {
      "text/plain": [
       "(32561,)"
      ]
     },
     "execution_count": 26,
     "metadata": {},
     "output_type": "execute_result"
    }
   ],
   "source": [
    "y_train.shape"
   ]
  },
  {
   "cell_type": "code",
   "execution_count": 27,
   "id": "f4e6e626",
   "metadata": {},
   "outputs": [
    {
     "data": {
      "text/plain": [
       "7841"
      ]
     },
     "execution_count": 27,
     "metadata": {},
     "output_type": "execute_result"
    }
   ],
   "source": [
    "y_train.sum()"
   ]
  },
  {
   "cell_type": "code",
   "execution_count": 28,
   "id": "58ff5194",
   "metadata": {},
   "outputs": [
    {
     "data": {
      "text/plain": [
       "Male      32650\n",
       "Female    16192\n",
       "Name: sex, dtype: int64"
      ]
     },
     "execution_count": 28,
     "metadata": {},
     "output_type": "execute_result"
    }
   ],
   "source": [
    "data['sex'].value_counts()"
   ]
  },
  {
   "cell_type": "code",
   "execution_count": 29,
   "id": "98dced67",
   "metadata": {},
   "outputs": [
    {
     "data": {
      "text/plain": [
       "White                 41762\n",
       "Black                  4685\n",
       "Asian-Pac-Islander     1519\n",
       "Amer-Indian-Eskimo      470\n",
       "Other                   406\n",
       "Name: race, dtype: int64"
      ]
     },
     "execution_count": 29,
     "metadata": {},
     "output_type": "execute_result"
    }
   ],
   "source": [
    "data['race'].value_counts()"
   ]
  },
  {
   "cell_type": "code",
   "execution_count": 30,
   "id": "5da6b7e9",
   "metadata": {},
   "outputs": [
    {
     "data": {
      "text/plain": [
       "United-States                 43832\n",
       "Mexico                          951\n",
       "?                               857\n",
       "Philippines                     295\n",
       "Germany                         206\n",
       "Puerto-Rico                     184\n",
       "Canada                          182\n",
       "El-Salvador                     155\n",
       "India                           151\n",
       "Cuba                            138\n",
       "England                         127\n",
       "China                           122\n",
       "South                           115\n",
       "Jamaica                         106\n",
       "Italy                           105\n",
       "Dominican-Republic              103\n",
       "Japan                            92\n",
       "Guatemala                        88\n",
       "Poland                           87\n",
       "Vietnam                          86\n",
       "Columbia                         85\n",
       "Haiti                            75\n",
       "Portugal                         67\n",
       "Taiwan                           65\n",
       "Iran                             59\n",
       "Greece                           49\n",
       "Nicaragua                        49\n",
       "Peru                             46\n",
       "Ecuador                          45\n",
       "France                           38\n",
       "Ireland                          37\n",
       "Hong                             30\n",
       "Thailand                         30\n",
       "Cambodia                         28\n",
       "Trinadad&Tobago                  27\n",
       "Laos                             23\n",
       "Yugoslavia                       23\n",
       "Outlying-US(Guam-USVI-etc)       23\n",
       "Scotland                         21\n",
       "Honduras                         20\n",
       "Hungary                          19\n",
       "Holand-Netherlands                1\n",
       "Name: native-country, dtype: int64"
      ]
     },
     "execution_count": 30,
     "metadata": {},
     "output_type": "execute_result"
    }
   ],
   "source": [
    "data['native-country'].value_counts()"
   ]
  },
  {
   "cell_type": "code",
   "execution_count": 31,
   "id": "d7190903",
   "metadata": {},
   "outputs": [
    {
     "data": {
      "text/plain": [
       " Private             33906\n",
       " Self-emp-not-inc     3862\n",
       " Local-gov            3136\n",
       " ?                    2799\n",
       " State-gov            1981\n",
       " Self-emp-inc         1695\n",
       " Federal-gov          1432\n",
       " Without-pay            21\n",
       " Never-worked           10\n",
       "Name: workclass, dtype: int64"
      ]
     },
     "execution_count": 31,
     "metadata": {},
     "output_type": "execute_result"
    }
   ],
   "source": [
    "data['workclass'].value_counts()"
   ]
  },
  {
   "cell_type": "markdown",
   "id": "8a68799d",
   "metadata": {},
   "source": [
    "## Absolute measures"
   ]
  },
  {
   "cell_type": "markdown",
   "id": "a1c967c3",
   "metadata": {},
   "source": [
    "### Impact ratio"
   ]
  },
  {
   "cell_type": "markdown",
   "id": "0d75ea89",
   "metadata": {},
   "source": [
    "$$r = \\frac{p(y^{+}|s^{1})}{p(y^{+}|s^{0})}$$"
   ]
  },
  {
   "cell_type": "markdown",
   "id": "3ad6fe8e",
   "metadata": {},
   "source": [
    "Protected group: Female  \n",
    "General group: Male"
   ]
  },
  {
   "cell_type": "code",
   "execution_count": 32,
   "id": "72743ecd",
   "metadata": {},
   "outputs": [],
   "source": [
    "def impact_ratio(column,protected,general):\n",
    "    prot = data[data[column] == protected]\n",
    "    gen = data[data[column] == general]\n",
    "    p_f = prot['target'].sum()/prot.shape[0]\n",
    "    p_m = gen['target'].sum()/gen.shape[0]\n",
    "    ratio = p_f/p_m\n",
    "    return  ratio, (1/ratio)"
   ]
  },
  {
   "cell_type": "code",
   "execution_count": 33,
   "id": "12070bd1",
   "metadata": {},
   "outputs": [
    {
     "name": "stdout",
     "output_type": "stream",
     "text": [
      "0.10925148221343874\n",
      "0.3037672281776417\n"
     ]
    }
   ],
   "source": [
    "p_f = data[data['sex'] == 'Female']['target'].sum()/data[data['sex'] == 'Female'].shape[0]\n",
    "p_m = data[data['sex'] == 'Male']['target'].sum()/data[data['sex'] == 'Male'].shape[0]\n",
    "print(p_f)\n",
    "print(p_m)"
   ]
  },
  {
   "cell_type": "code",
   "execution_count": 34,
   "id": "5b5f7124",
   "metadata": {},
   "outputs": [],
   "source": [
    "ratio = p_f/p_m"
   ]
  },
  {
   "cell_type": "code",
   "execution_count": 35,
   "id": "08d57833",
   "metadata": {},
   "outputs": [
    {
     "name": "stdout",
     "output_type": "stream",
     "text": [
      "0.3596552625800337\n",
      "2.7804403384128737\n"
     ]
    }
   ],
   "source": [
    "print(ratio)\n",
    "print(1/ratio)"
   ]
  },
  {
   "cell_type": "code",
   "execution_count": 36,
   "id": "f46e8a1f",
   "metadata": {},
   "outputs": [
    {
     "data": {
      "text/plain": [
       "(0.3596552625800337, 2.7804403384128737)"
      ]
     },
     "execution_count": 36,
     "metadata": {},
     "output_type": "execute_result"
    }
   ],
   "source": [
    "impact_ratio('sex','Female','Male')"
   ]
  },
  {
   "cell_type": "markdown",
   "id": "2848c8cd",
   "metadata": {},
   "source": [
    "Protected group: Black  \n",
    "General group: White"
   ]
  },
  {
   "cell_type": "code",
   "execution_count": 37,
   "id": "4f8a91dc",
   "metadata": {},
   "outputs": [],
   "source": [
    "races = data['race'].unique().tolist()"
   ]
  },
  {
   "cell_type": "code",
   "execution_count": 38,
   "id": "875ee31c",
   "metadata": {},
   "outputs": [
    {
     "name": "stdout",
     "output_type": "stream",
     "text": [
      "Impact ratio between White and White (1.0, 1.0)\n",
      "Impact ratio between White and Black (0.47565882219299216, 2.1023472147317044)\n",
      "Impact ratio between White and Asian-Pac-Islander (1.0601181117243244, 0.9432911191126243)\n",
      "Impact ratio between White and Amer-Indian-Eskimo (0.4607374896946818, 2.170433321288165)\n",
      "Impact ratio between White and Other (0.4848782359079723, 2.0623734495474353)\n"
     ]
    }
   ],
   "source": [
    "for i in races:\n",
    "    print('Impact ratio between White and {}'.format(i),impact_ratio('race',i,'White'))"
   ]
  },
  {
   "cell_type": "markdown",
   "id": "cb72fd76",
   "metadata": {},
   "source": [
    "### Mean Difference\n",
    "\n",
    "\n",
    "$$d = p(y^{+}|s^{0}) - p(y^{+}|s^{1})$$"
   ]
  },
  {
   "cell_type": "code",
   "execution_count": 39,
   "id": "d068655b",
   "metadata": {},
   "outputs": [],
   "source": [
    "def mean_difference(column, protected, general):\n",
    "    p_f = data[data[column] == protected]['target'].sum()/data[data[column] == protected].shape[0]\n",
    "    p_m = data[data[column] == general]['target'].sum()/data[data[column] == general].shape[0]\n",
    "    d = p_m - p_f\n",
    "    return d"
   ]
  },
  {
   "cell_type": "code",
   "execution_count": 40,
   "id": "02420ca9",
   "metadata": {},
   "outputs": [
    {
     "data": {
      "text/plain": [
       "0.19451574596420296"
      ]
     },
     "execution_count": 40,
     "metadata": {},
     "output_type": "execute_result"
    }
   ],
   "source": [
    "mean_difference('sex','Female','Male')"
   ]
  },
  {
   "cell_type": "code",
   "execution_count": 41,
   "id": "cd2c791d",
   "metadata": {},
   "outputs": [
    {
     "name": "stdout",
     "output_type": "stream",
     "text": [
      "Mean difference between White and White 0.0\n",
      "Mean difference between White and Black 0.13317577877014827\n",
      "Mean difference between White and Asian-Pac-Islander -0.015269211509504055\n",
      "Mean difference between White and Amer-Indian-Eskimo 0.1369656014273385\n",
      "Mean difference between White and Other 0.13083416866347725\n"
     ]
    }
   ],
   "source": [
    "for i in races:\n",
    "    print('Mean difference between White and {}'.format(i),mean_difference('race',i,'White'))"
   ]
  },
  {
   "cell_type": "markdown",
   "id": "209ea09c",
   "metadata": {},
   "source": [
    "### Normalized difference"
   ]
  },
  {
   "cell_type": "code",
   "execution_count": 42,
   "id": "8993ca62",
   "metadata": {},
   "outputs": [],
   "source": [
    "def normalized_difference(column,protected,general):\n",
    "    d = mean_difference(column,protected,general)\n",
    "    pypos = data[data['target'] == 1].shape[0]/data.shape[0]\n",
    "    pyneg = data[data['target'] == 0].shape[0]/data.shape[0]\n",
    "    ps1 = data[data[column] == protected].shape[0]/data.shape[0]\n",
    "    ps0 = data[data[column] == general].shape[0]/data.shape[0]\n",
    "    d_max = min((pypos/ps0),(pyneg/ps1))\n",
    "    return d/d_max"
   ]
  },
  {
   "cell_type": "code",
   "execution_count": 43,
   "id": "d84db6a7",
   "metadata": {},
   "outputs": [
    {
     "data": {
      "text/plain": [
       "0.5434191071901452"
      ]
     },
     "execution_count": 43,
     "metadata": {},
     "output_type": "execute_result"
    }
   ],
   "source": [
    "normalized_difference('sex','Female','Male')"
   ]
  },
  {
   "cell_type": "code",
   "execution_count": 44,
   "id": "6582a1e0",
   "metadata": {},
   "outputs": [
    {
     "data": {
      "text/plain": [
       "0.47588661529895887"
      ]
     },
     "execution_count": 44,
     "metadata": {},
     "output_type": "execute_result"
    }
   ],
   "source": [
    "normalized_difference('race','Black','White')"
   ]
  },
  {
   "cell_type": "code",
   "execution_count": 46,
   "id": "6ef64f69",
   "metadata": {},
   "outputs": [
    {
     "name": "stdout",
     "output_type": "stream",
     "text": [
      "Normalized difference between White and White 0.0\n",
      "Normalized difference between White and Black 0.47588661529895887\n",
      "Normalized difference between White and Asian-Pac-Islander -0.05456257474629147\n",
      "Normalized difference between White and Amer-Indian-Eskimo 0.48942906193278946\n",
      "Normalized difference between White and Other 0.4675191710211463\n"
     ]
    }
   ],
   "source": [
    "for i in races:\n",
    "    print('Normalized difference between White and {}'.format(i),normalized_difference('race',i,'White'))"
   ]
  },
  {
   "cell_type": "markdown",
   "id": "841bc582",
   "metadata": {},
   "source": [
    "### Area under the curve (AUC)"
   ]
  },
  {
   "cell_type": "code",
   "execution_count": 47,
   "id": "b9519663",
   "metadata": {},
   "outputs": [],
   "source": [
    "#Too expensive, don't try it :'v\n",
    "def auc():\n",
    "    men = data[data['sex'] == 'Male']\n",
    "    women = data[data['sex'] == 'Female']\n",
    "    suma = 0\n",
    "    for i,row in men.iterrows():\n",
    "        for j,row2 in women.iterrows():\n",
    "            if row['target'] > row2['target']:\n",
    "                suma +=1\n",
    "    return suma/(men.shape[0]*women.shape[0])"
   ]
  },
  {
   "cell_type": "markdown",
   "id": "ee2efe1f",
   "metadata": {},
   "source": [
    "### Elift ratio"
   ]
  },
  {
   "cell_type": "code",
   "execution_count": 48,
   "id": "76aba488",
   "metadata": {},
   "outputs": [],
   "source": [
    "def elif_ratio2(column,protected,general):\n",
    "    p_g = data[(data[column] == general)&(data['target'] == 1)].shape[0]\n",
    "    r = p_g/data[data['target'] == 1].shape[0]\n",
    "    return r"
   ]
  },
  {
   "cell_type": "code",
   "execution_count": 49,
   "id": "dc1eb330",
   "metadata": {},
   "outputs": [],
   "source": [
    "def elif_ratio(column,protected,general):\n",
    "    p_g = data[data[column] == general]['target'].sum()\n",
    "    r = p_g/data[data['target'] == 1].shape[0]\n",
    "    return r"
   ]
  },
  {
   "cell_type": "code",
   "execution_count": 50,
   "id": "9a403c87",
   "metadata": {},
   "outputs": [
    {
     "data": {
      "text/plain": [
       "0.8486352357320099"
      ]
     },
     "execution_count": 50,
     "metadata": {},
     "output_type": "execute_result"
    }
   ],
   "source": [
    "elif_ratio('sex','Female','Male')"
   ]
  },
  {
   "cell_type": "code",
   "execution_count": 51,
   "id": "e6fc1b85",
   "metadata": {},
   "outputs": [
    {
     "data": {
      "text/plain": [
       "0.8486352357320099"
      ]
     },
     "execution_count": 51,
     "metadata": {},
     "output_type": "execute_result"
    }
   ],
   "source": [
    "elif_ratio2('sex','Female','Male')"
   ]
  },
  {
   "cell_type": "code",
   "execution_count": 59,
   "id": "526a3e3f",
   "metadata": {},
   "outputs": [
    {
     "name": "stdout",
     "output_type": "stream",
     "text": [
      "Elif ratio between White and White 0.9075896295028665\n",
      "Elif ratio between White and Black 0.9075896295028665\n",
      "Elif ratio between White and Asian-Pac-Islander 0.9075896295028665\n",
      "Elif ratio between White and Amer-Indian-Eskimo 0.9075896295028665\n",
      "Elif ratio between White and Other 0.9075896295028665\n"
     ]
    }
   ],
   "source": [
    "for i in races:\n",
    "    print('Elif ratio between White and {}'.format(i),elif_ratio2('race',i,'White'))"
   ]
  },
  {
   "cell_type": "markdown",
   "id": "fc62b7b1",
   "metadata": {},
   "source": [
    "<h1> Conditional Measures </h1>"
   ]
  },
  {
   "cell_type": "markdown",
   "id": "05ae452f",
   "metadata": {},
   "source": [
    "<h2> The Unexplained Difference Measure </h2>"
   ]
  },
  {
   "cell_type": "markdown",
   "id": "f83c3cde",
   "metadata": {},
   "source": [
    "The mean difference formula:\n",
    "\n",
    "![image.png](data:image/png;base64,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)\n",
    "\n",
    "\n",
    "\n",
    "The unexplained difference formula:\n",
    "\n",
    "\n",
    "![image.png](data:image/png;base64,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)\n",
    "\n",
    "\n",
    "\n",
    "The explained difference formula:\n",
    "\n",
    "\n",
    "\n",
    "![image.png](data:image/png;base64,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)\n",
    "\n",
    "\n",
    "The desired acceptance rate formula:\n",
    "\n",
    "![image.png](data:image/png;base64,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)"
   ]
  },
  {
   "cell_type": "code",
   "execution_count": 55,
   "id": "5c7848ad",
   "metadata": {},
   "outputs": [],
   "source": [
    "def unexplained_difference(column,protected,general, explainer):\n",
    "    prot = data[data[column] == protected]\n",
    "    gen = data[data[column] == general]\n",
    "\n",
    "    exp = data[data[column] == explainer]\n",
    "\n",
    "    d = gen['target'].sum()/len(gen) - prot['target'].sum()/len(prot)\n",
    "    d_e = 0\n",
    "    for explainer_value in set(data[explainer].values):\n",
    "        p_star_yp_zi = 0\n",
    "        if gen[gen[explainer] == explainer_value]['target'].sum() > 0:\n",
    "            p_star_yp_zi += gen[gen[explainer] == explainer_value]['target'].sum()/len(gen[gen[explainer] == explainer_value])\n",
    "        \n",
    "        if prot[prot[explainer] == explainer_value]['target'].sum() > 0:\n",
    "            p_star_yp_zi +=  prot[prot[explainer] == explainer_value]['target'].sum()/len(prot[prot[explainer] == explainer_value])\n",
    "        \n",
    "        exp = data[data[explainer] == explainer_value]\n",
    "\n",
    "        d_e +=  p_star_yp_zi*(len(exp[exp[column] == general])/len(gen) - len(exp[exp[column] == protected])/len(prot))\n",
    "\n",
    "    return d-d_e"
   ]
  },
  {
   "cell_type": "code",
   "execution_count": 58,
   "id": "1bc62a63",
   "metadata": {},
   "outputs": [
    {
     "name": "stdout",
     "output_type": "stream",
     "text": [
      "Unexplained difference (excluding age) between White and White 0.0\n",
      "Unexplained difference (excluding age) between White and Black 0.13335245884657307\n",
      "Unexplained difference (excluding age) between White and Asian-Pac-Islander -0.011642521364781739\n",
      "Unexplained difference (excluding age) between White and Amer-Indian-Eskimo 0.12888638828866764\n",
      "Unexplained difference (excluding age) between White and Other 0.06616221781367827\n",
      "Unexplained difference (excluding education) between White and White 0.0\n",
      "Unexplained difference (excluding education) between White and Black 0.05451914671617884\n",
      "Unexplained difference (excluding education) between White and Asian-Pac-Islander 0.10201388224617275\n",
      "Unexplained difference (excluding education) between White and Amer-Indian-Eskimo 0.035147546469885535\n",
      "Unexplained difference (excluding education) between White and Other 0.04729987655176439\n",
      "---------------------------------------------------------------\n",
      "Average Unexplained difference (excluding age ,education) between White and White 0.0\n",
      "Average Unexplained difference (excluding age ,education) between White and Black 0.09393580278137595\n",
      "Average Unexplained difference (excluding age ,education) between White and Asian-Pac-Islander 0.04518568044069551\n",
      "Average Unexplained difference (excluding age ,education) between White and Amer-Indian-Eskimo 0.08201696737927658\n",
      "Average Unexplained difference (excluding age ,education) between White and Other 0.05673104718272133\n"
     ]
    }
   ],
   "source": [
    "protected_col = 'race'\n",
    "gen_value = 'White'\n",
    "races = data[protected_col].unique().tolist()\n",
    "avg_unexplained = {}\n",
    "explainers = ['age', 'education']\n",
    "for explainer in explainers:\n",
    "    for i in races:\n",
    "        cur_unexplained_diff = unexplained_difference(protected_col,i,gen_value, explainer)\n",
    "        print(f'Unexplained difference (excluding {explainer}) between {gen_value} and {i}',cur_unexplained_diff)\n",
    "        if f'{gen_value} and {i}' not in avg_unexplained:\n",
    "            avg_unexplained[f'{gen_value} and {i}'] = 0\n",
    "        avg_unexplained[f'{gen_value} and {i}'] += cur_unexplained_diff\n",
    "\n",
    "print('---------------------------------------------------------------')\n",
    "for i in races:\n",
    "    print(f'Average Unexplained difference (excluding {\" ,\".join(explainers)}) between {gen_value} and {i}',avg_unexplained[f'{gen_value} and {i}']/len(explainers))"
   ]
  },
  {
   "cell_type": "code",
   "execution_count": 57,
   "id": "6f3430eb",
   "metadata": {},
   "outputs": [
    {
     "name": "stdout",
     "output_type": "stream",
     "text": [
      "Unexplained difference (excluding age) between Male and Male 0.0\n",
      "Unexplained difference (excluding age) between Male and Female 0.13554767991978472\n",
      "Unexplained difference (excluding education) between Male and Male 0.0\n",
      "Unexplained difference (excluding education) between Male and Female 0.17150232547779964\n",
      "---------------------------------------------------------------\n",
      "Average Unexplained difference (excluding age ,education) between Male and Male 0.0\n",
      "Average Unexplained difference (excluding age ,education) between Male and Female 0.15352500269879218\n"
     ]
    }
   ],
   "source": [
    "protected_col = 'sex'\n",
    "gen_value = 'Male'\n",
    "races = data[protected_col].unique().tolist()\n",
    "avg_unexplained = {}\n",
    "explainers = ['age', 'education']\n",
    "for explainer in explainers:\n",
    "    for i in races:\n",
    "        cur_unexplained_diff = unexplained_difference(protected_col,i,gen_value, explainer)\n",
    "        print(f'Unexplained difference (excluding {explainer}) between {gen_value} and {i}',cur_unexplained_diff)\n",
    "        if f'{gen_value} and {i}' not in avg_unexplained:\n",
    "            avg_unexplained[f'{gen_value} and {i}'] = 0\n",
    "        avg_unexplained[f'{gen_value} and {i}'] += cur_unexplained_diff\n",
    "\n",
    "print('---------------------------------------------------------------')\n",
    "for i in races:\n",
    "    print(f'Average Unexplained difference (excluding {\" ,\".join(explainers)}) between {gen_value} and {i}',avg_unexplained[f'{gen_value} and {i}']/len(explainers))"
   ]
  },
  {
   "cell_type": "code",
   "execution_count": 53,
   "id": "b6d4c9f1",
   "metadata": {},
   "outputs": [],
   "source": [
    "from sklearn.naive_bayes import GaussianNB"
   ]
  },
  {
   "cell_type": "code",
   "execution_count": 54,
   "id": "c7df6125",
   "metadata": {},
   "outputs": [
    {
     "data": {
      "text/html": [
       "<style>#sk-container-id-1 {color: black;background-color: white;}#sk-container-id-1 pre{padding: 0;}#sk-container-id-1 div.sk-toggleable {background-color: white;}#sk-container-id-1 label.sk-toggleable__label {cursor: pointer;display: block;width: 100%;margin-bottom: 0;padding: 0.3em;box-sizing: border-box;text-align: center;}#sk-container-id-1 label.sk-toggleable__label-arrow:before {content: \"▸\";float: left;margin-right: 0.25em;color: #696969;}#sk-container-id-1 label.sk-toggleable__label-arrow:hover:before {color: black;}#sk-container-id-1 div.sk-estimator:hover label.sk-toggleable__label-arrow:before {color: black;}#sk-container-id-1 div.sk-toggleable__content {max-height: 0;max-width: 0;overflow: hidden;text-align: left;background-color: #f0f8ff;}#sk-container-id-1 div.sk-toggleable__content pre {margin: 0.2em;color: black;border-radius: 0.25em;background-color: #f0f8ff;}#sk-container-id-1 input.sk-toggleable__control:checked~div.sk-toggleable__content {max-height: 200px;max-width: 100%;overflow: auto;}#sk-container-id-1 input.sk-toggleable__control:checked~label.sk-toggleable__label-arrow:before {content: \"▾\";}#sk-container-id-1 div.sk-estimator input.sk-toggleable__control:checked~label.sk-toggleable__label {background-color: #d4ebff;}#sk-container-id-1 div.sk-label input.sk-toggleable__control:checked~label.sk-toggleable__label {background-color: #d4ebff;}#sk-container-id-1 input.sk-hidden--visually {border: 0;clip: rect(1px 1px 1px 1px);clip: rect(1px, 1px, 1px, 1px);height: 1px;margin: -1px;overflow: hidden;padding: 0;position: absolute;width: 1px;}#sk-container-id-1 div.sk-estimator {font-family: monospace;background-color: #f0f8ff;border: 1px dotted black;border-radius: 0.25em;box-sizing: border-box;margin-bottom: 0.5em;}#sk-container-id-1 div.sk-estimator:hover {background-color: #d4ebff;}#sk-container-id-1 div.sk-parallel-item::after {content: \"\";width: 100%;border-bottom: 1px solid gray;flex-grow: 1;}#sk-container-id-1 div.sk-label:hover label.sk-toggleable__label {background-color: #d4ebff;}#sk-container-id-1 div.sk-serial::before {content: \"\";position: absolute;border-left: 1px solid gray;box-sizing: border-box;top: 0;bottom: 0;left: 50%;z-index: 0;}#sk-container-id-1 div.sk-serial {display: flex;flex-direction: column;align-items: center;background-color: white;padding-right: 0.2em;padding-left: 0.2em;position: relative;}#sk-container-id-1 div.sk-item {position: relative;z-index: 1;}#sk-container-id-1 div.sk-parallel {display: flex;align-items: stretch;justify-content: center;background-color: white;position: relative;}#sk-container-id-1 div.sk-item::before, #sk-container-id-1 div.sk-parallel-item::before {content: \"\";position: absolute;border-left: 1px solid gray;box-sizing: border-box;top: 0;bottom: 0;left: 50%;z-index: -1;}#sk-container-id-1 div.sk-parallel-item {display: flex;flex-direction: column;z-index: 1;position: relative;background-color: white;}#sk-container-id-1 div.sk-parallel-item:first-child::after {align-self: flex-end;width: 50%;}#sk-container-id-1 div.sk-parallel-item:last-child::after {align-self: flex-start;width: 50%;}#sk-container-id-1 div.sk-parallel-item:only-child::after {width: 0;}#sk-container-id-1 div.sk-dashed-wrapped {border: 1px dashed gray;margin: 0 0.4em 0.5em 0.4em;box-sizing: border-box;padding-bottom: 0.4em;background-color: white;}#sk-container-id-1 div.sk-label label {font-family: monospace;font-weight: bold;display: inline-block;line-height: 1.2em;}#sk-container-id-1 div.sk-label-container {text-align: center;}#sk-container-id-1 div.sk-container {/* jupyter's `normalize.less` sets `[hidden] { display: none; }` but bootstrap.min.css set `[hidden] { display: none !important; }` so we also need the `!important` here to be able to override the default hidden behavior on the sphinx rendered scikit-learn.org. See: https://github.com/scikit-learn/scikit-learn/issues/21755 */display: inline-block !important;position: relative;}#sk-container-id-1 div.sk-text-repr-fallback {display: none;}</style><div id=\"sk-container-id-1\" class=\"sk-top-container\"><div class=\"sk-text-repr-fallback\"><pre>GaussianNB()</pre><b>In a Jupyter environment, please rerun this cell to show the HTML representation or trust the notebook. <br />On GitHub, the HTML representation is unable to render, please try loading this page with nbviewer.org.</b></div><div class=\"sk-container\" hidden><div class=\"sk-item\"><div class=\"sk-estimator sk-toggleable\"><input class=\"sk-toggleable__control sk-hidden--visually\" id=\"sk-estimator-id-1\" type=\"checkbox\" checked><label for=\"sk-estimator-id-1\" class=\"sk-toggleable__label sk-toggleable__label-arrow\">GaussianNB</label><div class=\"sk-toggleable__content\"><pre>GaussianNB()</pre></div></div></div></div></div>"
      ],
      "text/plain": [
       "GaussianNB()"
      ]
     },
     "execution_count": 54,
     "metadata": {},
     "output_type": "execute_result"
    }
   ],
   "source": [
    "m_NB = GaussianNB()\n",
    "m_NB.fit(X_train,y_train)"
   ]
  },
  {
   "cell_type": "code",
   "execution_count": 57,
   "id": "1760cfca",
   "metadata": {},
   "outputs": [],
   "source": [
    "y_pred = m_NB.predict(X_test)"
   ]
  },
  {
   "cell_type": "code",
   "execution_count": 58,
   "id": "5509fb0c",
   "metadata": {},
   "outputs": [
    {
     "data": {
      "text/plain": [
       "0.7957127940544193"
      ]
     },
     "execution_count": 58,
     "metadata": {},
     "output_type": "execute_result"
    }
   ],
   "source": [
    "accuracy_score(y_test,y_pred)"
   ]
  },
  {
   "cell_type": "code",
   "execution_count": 59,
   "id": "46f30f77",
   "metadata": {},
   "outputs": [],
   "source": [
    "def fairness_metrics(y_pred,y_true):\n",
    "    \"\"\"Calculate fairness for subgroup of population\"\"\"\n",
    "    \n",
    "    #Confusion Matrix\n",
    "    cm=confusion_matrix(y_true,y_pred)\n",
    "    TN, FP, FN, TP = cm.ravel()\n",
    "    \n",
    "    N = TP+FP+FN+TN #Total population\n",
    "    ACC = (TP+TN)/N #Accuracy\n",
    "    TPR = TP/(TP+FN) # True positive rate\n",
    "    FPR = FP/(FP+TN) # False positive rate\n",
    "    FNR = FN/(TP+FN) # False negative rate\n",
    "    PPP = (TP + FP)/N # % predicted as positive\n",
    "    \n",
    "    return np.array([ACC, TPR, FPR, FNR, PPP]) "
   ]
  },
  {
   "cell_type": "code",
   "execution_count": 60,
   "id": "fd386e60",
   "metadata": {},
   "outputs": [
    {
     "data": {
      "text/plain": [
       "array([0.79571279, 0.3049922 , 0.05251307, 0.6950078 , 0.11215527])"
      ]
     },
     "execution_count": 60,
     "metadata": {},
     "output_type": "execute_result"
    }
   ],
   "source": [
    "fairness_metrics(y_pred,y_test)"
   ]
  },
  {
   "cell_type": "code",
   "execution_count": 61,
   "id": "3c7aa4ac",
   "metadata": {},
   "outputs": [
    {
     "name": "stderr",
     "output_type": "stream",
     "text": [
      "c:\\Users\\Beate\\AppData\\Local\\Programs\\Python\\Python310\\lib\\site-packages\\sklearn\\linear_model\\_sag.py:352: ConvergenceWarning: The max_iter was reached which means the coef_ did not converge\n",
      "  warnings.warn(\n"
     ]
    },
    {
     "data": {
      "text/plain": [
       "Pipeline(steps=[('scaler', StandardScaler()),\n",
       "                ('log',\n",
       "                 LogisticRegression(C=0.1, max_iter=400, penalty='l1',\n",
       "                                    solver='saga'))])"
      ]
     },
     "execution_count": 61,
     "metadata": {},
     "output_type": "execute_result"
    }
   ],
   "source": [
    "pipeline = Pipeline([('scaler',StandardScaler()),('log',LogisticRegression(penalty='l1',C = 0.1,solver='saga',max_iter=400))])\n",
    "\n",
    "#log = LogisticRegression(penalty='l1',C = 0.1,solver='saga',max_iter=400)\n",
    "pipeline.fit(X_train,y_train)"
   ]
  },
  {
   "cell_type": "code",
   "execution_count": 62,
   "id": "6606348c",
   "metadata": {},
   "outputs": [],
   "source": [
    "y_pred = pipeline.predict(X_test)"
   ]
  },
  {
   "cell_type": "code",
   "execution_count": 63,
   "id": "575f44c1",
   "metadata": {},
   "outputs": [
    {
     "data": {
      "text/plain": [
       "0.85283459246975"
      ]
     },
     "execution_count": 63,
     "metadata": {},
     "output_type": "execute_result"
    }
   ],
   "source": [
    "accuracy_score(y_test,y_pred)"
   ]
  },
  {
   "cell_type": "code",
   "execution_count": 64,
   "id": "d9f1ba89",
   "metadata": {},
   "outputs": [
    {
     "data": {
      "text/plain": [
       "array([0.85283459, 0.59672387, 0.06795336, 0.40327613, 0.19286285])"
      ]
     },
     "execution_count": 64,
     "metadata": {},
     "output_type": "execute_result"
    }
   ],
   "source": [
    "fairness_metrics(y_pred,y_test)"
   ]
  },
  {
   "cell_type": "code",
   "execution_count": 65,
   "id": "9d20b2d1",
   "metadata": {},
   "outputs": [
    {
     "data": {
      "text/plain": [
       "array([0, 0, 0, ..., 1, 0, 1], dtype=int64)"
      ]
     },
     "execution_count": 65,
     "metadata": {},
     "output_type": "execute_result"
    }
   ],
   "source": [
    "y_pred"
   ]
  },
  {
   "cell_type": "code",
   "execution_count": 66,
   "id": "49977b6b",
   "metadata": {},
   "outputs": [],
   "source": [
    "y_pred_males = y_pred[X_test[X_test['sex_Male'] == 1].index.tolist()]\n",
    "y_pred_females = y_pred[X_test[X_test['sex_Male'] == 0].index.tolist()]"
   ]
  },
  {
   "cell_type": "code",
   "execution_count": 67,
   "id": "98c1fde1",
   "metadata": {},
   "outputs": [],
   "source": [
    "y_test_males = y_test.loc[X_test[X_test['sex_Male'] == 1].index]\n",
    "y_test_females = y_test.loc[X_test[X_test['sex_Male'] == 0].index]"
   ]
  },
  {
   "cell_type": "code",
   "execution_count": 68,
   "id": "65680454",
   "metadata": {},
   "outputs": [],
   "source": [
    "fm_sex_1 = fairness_metrics(y_pred_males,y_test_males)\n",
    "fm_sex_0 = fairness_metrics(y_pred_females,y_test_females)"
   ]
  },
  {
   "cell_type": "code",
   "execution_count": 69,
   "id": "96f13fc7",
   "metadata": {},
   "outputs": [],
   "source": [
    "fm_sex = fm_sex_0/fm_sex_1"
   ]
  },
  {
   "cell_type": "code",
   "execution_count": 70,
   "id": "94532849",
   "metadata": {},
   "outputs": [
    {
     "data": {
      "text/plain": [
       "array([1.14045264, 0.858641  , 0.21849343, 1.22105432, 0.30255426])"
      ]
     },
     "execution_count": 70,
     "metadata": {},
     "output_type": "execute_result"
    }
   ],
   "source": [
    "fm_sex"
   ]
  },
  {
   "cell_type": "code",
   "execution_count": 71,
   "id": "7a708e44",
   "metadata": {},
   "outputs": [
    {
     "data": {
      "text/plain": [
       "array([0.92916436, 0.52372881, 0.02132064, 0.47627119, 0.07600074])"
      ]
     },
     "execution_count": 71,
     "metadata": {},
     "output_type": "execute_result"
    }
   ],
   "source": [
    "fm_sex_0"
   ]
  },
  {
   "cell_type": "code",
   "execution_count": 72,
   "id": "1fc83e3f",
   "metadata": {},
   "outputs": [
    {
     "data": {
      "text/plain": [
       "array([0.81473297, 0.60995086, 0.09758022, 0.39004914, 0.25119705])"
      ]
     },
     "execution_count": 72,
     "metadata": {},
     "output_type": "execute_result"
    }
   ],
   "source": [
    "fm_sex_1"
   ]
  },
  {
   "cell_type": "code",
   "execution_count": 74,
   "id": "f478d18d",
   "metadata": {},
   "outputs": [
    {
     "name": "stdout",
     "output_type": "stream",
     "text": [
      "(0.8219634197920687, 0.7687117786279605, 0.7897690943474325, None)\n",
      "(0.8602665683926048, 0.8602665683926048, 0.8602665683926048, None)\n"
     ]
    },
    {
     "data": {
      "text/plain": [
       "0.8602665683926048"
      ]
     },
     "execution_count": 74,
     "metadata": {},
     "output_type": "execute_result"
    }
   ],
   "source": [
    "# classify data\n",
    "clf =   DecisionTreeClassifier(max_depth=10)\n",
    "clf.fit(X_train, y_train)\n",
    "pred_Y = clf.predict(X_test)\n",
    "\n",
    "# scores\n",
    "print(precision_recall_fscore_support(y_test, pred_Y, average=\"macro\"))\n",
    "print(precision_recall_fscore_support(y_test, pred_Y, average=\"micro\"))\n",
    "accuracy_score(y_test, pred_Y)"
   ]
  },
  {
   "cell_type": "markdown",
   "id": "7cd68beb",
   "metadata": {},
   "source": [
    "## Calculate the consistency measure"
   ]
  },
  {
   "cell_type": "code",
   "execution_count": 75,
   "id": "1b749234",
   "metadata": {},
   "outputs": [],
   "source": [
    "# we use sklearn to find the nearest neighbors\n",
    "neigh = NearestNeighbors(n_neighbors=10)\n",
    "nbrs = neigh.fit(X_test)\n",
    "distances, indices = nbrs.kneighbors(X_test)"
   ]
  },
  {
   "cell_type": "code",
   "execution_count": 76,
   "id": "b554ae0b",
   "metadata": {},
   "outputs": [
    {
     "name": "stdout",
     "output_type": "stream",
     "text": [
      "0.786407468828696\n"
     ]
    }
   ],
   "source": [
    "# calculate C\n",
    "sum = 0\n",
    "for i in range(len(indices)):\n",
    "    for j in range(10):\n",
    "        sum += np.abs(int(pred_Y[i])-int(pred_Y[indices[i][j]]))\n",
    "result = 1 - sum*(1/(10*len(indices)))\n",
    "print(result)"
   ]
  },
  {
   "cell_type": "code",
   "execution_count": null,
   "id": "4c4df0a4",
   "metadata": {},
   "outputs": [],
   "source": []
  }
 ],
 "metadata": {
  "kernelspec": {
   "display_name": "Python 3.9.13 ('myenv')",
   "language": "python",
   "name": "python3"
  },
  "language_info": {
   "codemirror_mode": {
    "name": "ipython",
    "version": 3
   },
   "file_extension": ".py",
   "mimetype": "text/x-python",
   "name": "python",
   "nbconvert_exporter": "python",
   "pygments_lexer": "ipython3",
   "version": "3.9.13"
  },
  "vscode": {
   "interpreter": {
    "hash": "7e018cd8fb1342bbe3fd4263d4e44400d4fc9ab84ee2dc0c4da533a6675a2fd4"
   }
  }
 },
 "nbformat": 4,
 "nbformat_minor": 5
}
